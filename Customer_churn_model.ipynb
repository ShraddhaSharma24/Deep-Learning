{
  "metadata": {
    "kernelspec": {
      "language": "python",
      "display_name": "Python 3",
      "name": "python3"
    },
    "language_info": {
      "name": "python",
      "version": "3.10.14",
      "mimetype": "text/x-python",
      "codemirror_mode": {
        "name": "ipython",
        "version": 3
      },
      "pygments_lexer": "ipython3",
      "nbconvert_exporter": "python",
      "file_extension": ".py"
    },
    "kaggle": {
      "accelerator": "none",
      "dataSources": [
        {
          "sourceId": 5550559,
          "sourceType": "datasetVersion",
          "datasetId": 3197960
        }
      ],
      "dockerImageVersionId": 30786,
      "isInternetEnabled": false,
      "language": "python",
      "sourceType": "notebook",
      "isGpuEnabled": false
    },
    "colab": {
      "name": "Customer churn model ",
      "provenance": [],
      "include_colab_link": true
    }
  },
  "nbformat_minor": 0,
  "nbformat": 4,
  "cells": [
    {
      "cell_type": "markdown",
      "metadata": {
        "id": "view-in-github",
        "colab_type": "text"
      },
      "source": [
        "<a href=\"https://colab.research.google.com/github/ShraddhaSharma24/Deep-Learning/blob/main/Customer_churn_model.ipynb\" target=\"_parent\"><img src=\"https://colab.research.google.com/assets/colab-badge.svg\" alt=\"Open In Colab\"/></a>"
      ]
    },
    {
      "source": [
        "# IMPORTANT: RUN THIS CELL IN ORDER TO IMPORT YOUR KAGGLE DATA SOURCES,\n",
        "# THEN FEEL FREE TO DELETE THIS CELL.\n",
        "# NOTE: THIS NOTEBOOK ENVIRONMENT DIFFERS FROM KAGGLE'S PYTHON\n",
        "# ENVIRONMENT SO THERE MAY BE MISSING LIBRARIES USED BY YOUR\n",
        "# NOTEBOOK.\n",
        "import kagglehub\n",
        "radheshyamkollipara_bank_customer_churn_path = kagglehub.dataset_download('radheshyamkollipara/bank-customer-churn')\n",
        "\n",
        "print('Data source import complete.')\n"
      ],
      "metadata": {
        "id": "zDnQzCob8vsV"
      },
      "cell_type": "code",
      "outputs": [],
      "execution_count": null
    },
    {
      "cell_type": "code",
      "source": [
        "# This Python 3 environment comes with many helpful analytics libraries installed\n",
        "# It is defined by the kaggle/python Docker image: https://github.com/kaggle/docker-python\n",
        "# For example, here's several helpful packages to load\n",
        "\n",
        "import numpy as np # linear algebra\n",
        "import pandas as pd # data processing, CSV file I/O (e.g. pd.read_csv)\n",
        "\n",
        "# Input data files are available in the read-only \"../input/\" directory\n",
        "# For example, running this (by clicking run or pressing Shift+Enter) will list all files under the input directory\n",
        "\n",
        "import os\n",
        "for dirname, _, filenames in os.walk('/kaggle/input'):\n",
        "    for filename in filenames:\n",
        "        print(os.path.join(dirname, filename))\n",
        "\n",
        "# You can write up to 20GB to the current directory (/kaggle/working/) that gets preserved as output when you create a version using \"Save & Run All\"\n",
        "# You can also write temporary files to /kaggle/temp/, but they won't be saved outside of the current session"
      ],
      "metadata": {
        "_uuid": "8f2839f25d086af736a60e9eeb907d3b93b6e0e5",
        "_cell_guid": "b1076dfc-b9ad-4769-8c92-a6c4dae69d19",
        "trusted": true,
        "execution": {
          "iopub.status.busy": "2024-11-30T11:36:04.72751Z",
          "iopub.execute_input": "2024-11-30T11:36:04.727955Z",
          "iopub.status.idle": "2024-11-30T11:36:04.74069Z",
          "shell.execute_reply.started": "2024-11-30T11:36:04.727917Z",
          "shell.execute_reply": "2024-11-30T11:36:04.7397Z"
        },
        "id": "B4K-0wj88vsc",
        "outputId": "069a574b-5051-47c7-ddcb-63c65e62a11d"
      },
      "outputs": [
        {
          "name": "stdout",
          "text": "/kaggle/input/bank-customer-churn/Customer-Churn-Records.csv\n",
          "output_type": "stream"
        }
      ],
      "execution_count": null
    },
    {
      "cell_type": "code",
      "source": [
        "import pandas as pd\n",
        "import numpy as np\n",
        "import matplotlib.pyplot as plt\n",
        "import seaborn as sns"
      ],
      "metadata": {
        "trusted": true,
        "execution": {
          "iopub.status.busy": "2024-11-30T11:36:05.956919Z",
          "iopub.execute_input": "2024-11-30T11:36:05.957271Z",
          "iopub.status.idle": "2024-11-30T11:36:05.962181Z",
          "shell.execute_reply.started": "2024-11-30T11:36:05.95724Z",
          "shell.execute_reply": "2024-11-30T11:36:05.960972Z"
        },
        "id": "gFBYHJkK8vsf"
      },
      "outputs": [],
      "execution_count": null
    },
    {
      "cell_type": "code",
      "source": [
        "df=pd.read_csv('/kaggle/input/bank-customer-churn/Customer-Churn-Records.csv')"
      ],
      "metadata": {
        "trusted": true,
        "execution": {
          "iopub.status.busy": "2024-11-30T11:36:06.957153Z",
          "iopub.execute_input": "2024-11-30T11:36:06.95755Z",
          "iopub.status.idle": "2024-11-30T11:36:06.991558Z",
          "shell.execute_reply.started": "2024-11-30T11:36:06.957516Z",
          "shell.execute_reply": "2024-11-30T11:36:06.990563Z"
        },
        "id": "5QKaiOXV8vsg"
      },
      "outputs": [],
      "execution_count": null
    },
    {
      "cell_type": "code",
      "source": [
        "df.head()"
      ],
      "metadata": {
        "trusted": true,
        "execution": {
          "iopub.status.busy": "2024-11-30T11:36:08.237167Z",
          "iopub.execute_input": "2024-11-30T11:36:08.237562Z",
          "iopub.status.idle": "2024-11-30T11:36:08.256258Z",
          "shell.execute_reply.started": "2024-11-30T11:36:08.237528Z",
          "shell.execute_reply": "2024-11-30T11:36:08.255088Z"
        },
        "id": "3ieqYmqC8vsg",
        "outputId": "3fe1d129-7cad-4391-ef47-14464b75aa14"
      },
      "outputs": [
        {
          "execution_count": 86,
          "output_type": "execute_result",
          "data": {
            "text/plain": "   RowNumber  CustomerId   Surname  CreditScore Geography  Gender  Age  \\\n0          1    15634602  Hargrave          619    France  Female   42   \n1          2    15647311      Hill          608     Spain  Female   41   \n2          3    15619304      Onio          502    France  Female   42   \n3          4    15701354      Boni          699    France  Female   39   \n4          5    15737888  Mitchell          850     Spain  Female   43   \n\n   Tenure    Balance  NumOfProducts  HasCrCard  IsActiveMember  \\\n0       2       0.00              1          1               1   \n1       1   83807.86              1          0               1   \n2       8  159660.80              3          1               0   \n3       1       0.00              2          0               0   \n4       2  125510.82              1          1               1   \n\n   EstimatedSalary  Exited  Complain  Satisfaction Score Card Type  \\\n0        101348.88       1         1                   2   DIAMOND   \n1        112542.58       0         1                   3   DIAMOND   \n2        113931.57       1         1                   3   DIAMOND   \n3         93826.63       0         0                   5      GOLD   \n4         79084.10       0         0                   5      GOLD   \n\n   Point Earned  \n0           464  \n1           456  \n2           377  \n3           350  \n4           425  ",
            "text/html": "<div>\n<style scoped>\n    .dataframe tbody tr th:only-of-type {\n        vertical-align: middle;\n    }\n\n    .dataframe tbody tr th {\n        vertical-align: top;\n    }\n\n    .dataframe thead th {\n        text-align: right;\n    }\n</style>\n<table border=\"1\" class=\"dataframe\">\n  <thead>\n    <tr style=\"text-align: right;\">\n      <th></th>\n      <th>RowNumber</th>\n      <th>CustomerId</th>\n      <th>Surname</th>\n      <th>CreditScore</th>\n      <th>Geography</th>\n      <th>Gender</th>\n      <th>Age</th>\n      <th>Tenure</th>\n      <th>Balance</th>\n      <th>NumOfProducts</th>\n      <th>HasCrCard</th>\n      <th>IsActiveMember</th>\n      <th>EstimatedSalary</th>\n      <th>Exited</th>\n      <th>Complain</th>\n      <th>Satisfaction Score</th>\n      <th>Card Type</th>\n      <th>Point Earned</th>\n    </tr>\n  </thead>\n  <tbody>\n    <tr>\n      <th>0</th>\n      <td>1</td>\n      <td>15634602</td>\n      <td>Hargrave</td>\n      <td>619</td>\n      <td>France</td>\n      <td>Female</td>\n      <td>42</td>\n      <td>2</td>\n      <td>0.00</td>\n      <td>1</td>\n      <td>1</td>\n      <td>1</td>\n      <td>101348.88</td>\n      <td>1</td>\n      <td>1</td>\n      <td>2</td>\n      <td>DIAMOND</td>\n      <td>464</td>\n    </tr>\n    <tr>\n      <th>1</th>\n      <td>2</td>\n      <td>15647311</td>\n      <td>Hill</td>\n      <td>608</td>\n      <td>Spain</td>\n      <td>Female</td>\n      <td>41</td>\n      <td>1</td>\n      <td>83807.86</td>\n      <td>1</td>\n      <td>0</td>\n      <td>1</td>\n      <td>112542.58</td>\n      <td>0</td>\n      <td>1</td>\n      <td>3</td>\n      <td>DIAMOND</td>\n      <td>456</td>\n    </tr>\n    <tr>\n      <th>2</th>\n      <td>3</td>\n      <td>15619304</td>\n      <td>Onio</td>\n      <td>502</td>\n      <td>France</td>\n      <td>Female</td>\n      <td>42</td>\n      <td>8</td>\n      <td>159660.80</td>\n      <td>3</td>\n      <td>1</td>\n      <td>0</td>\n      <td>113931.57</td>\n      <td>1</td>\n      <td>1</td>\n      <td>3</td>\n      <td>DIAMOND</td>\n      <td>377</td>\n    </tr>\n    <tr>\n      <th>3</th>\n      <td>4</td>\n      <td>15701354</td>\n      <td>Boni</td>\n      <td>699</td>\n      <td>France</td>\n      <td>Female</td>\n      <td>39</td>\n      <td>1</td>\n      <td>0.00</td>\n      <td>2</td>\n      <td>0</td>\n      <td>0</td>\n      <td>93826.63</td>\n      <td>0</td>\n      <td>0</td>\n      <td>5</td>\n      <td>GOLD</td>\n      <td>350</td>\n    </tr>\n    <tr>\n      <th>4</th>\n      <td>5</td>\n      <td>15737888</td>\n      <td>Mitchell</td>\n      <td>850</td>\n      <td>Spain</td>\n      <td>Female</td>\n      <td>43</td>\n      <td>2</td>\n      <td>125510.82</td>\n      <td>1</td>\n      <td>1</td>\n      <td>1</td>\n      <td>79084.10</td>\n      <td>0</td>\n      <td>0</td>\n      <td>5</td>\n      <td>GOLD</td>\n      <td>425</td>\n    </tr>\n  </tbody>\n</table>\n</div>"
          },
          "metadata": {}
        }
      ],
      "execution_count": null
    },
    {
      "cell_type": "code",
      "source": [
        "df.shape"
      ],
      "metadata": {
        "trusted": true,
        "execution": {
          "iopub.status.busy": "2024-11-30T11:36:09.397432Z",
          "iopub.execute_input": "2024-11-30T11:36:09.398194Z",
          "iopub.status.idle": "2024-11-30T11:36:09.404678Z",
          "shell.execute_reply.started": "2024-11-30T11:36:09.398154Z",
          "shell.execute_reply": "2024-11-30T11:36:09.403533Z"
        },
        "id": "uszH-CDD8vsi",
        "outputId": "8384d059-d78a-413f-a1b6-cb77e75d5d33"
      },
      "outputs": [
        {
          "execution_count": 87,
          "output_type": "execute_result",
          "data": {
            "text/plain": "(10000, 18)"
          },
          "metadata": {}
        }
      ],
      "execution_count": null
    },
    {
      "cell_type": "code",
      "source": [
        "df.info()"
      ],
      "metadata": {
        "trusted": true,
        "execution": {
          "iopub.status.busy": "2024-11-30T11:36:10.442054Z",
          "iopub.execute_input": "2024-11-30T11:36:10.442818Z",
          "iopub.status.idle": "2024-11-30T11:36:10.45848Z",
          "shell.execute_reply.started": "2024-11-30T11:36:10.442773Z",
          "shell.execute_reply": "2024-11-30T11:36:10.457291Z"
        },
        "id": "DMVtnwSK8vsj",
        "outputId": "046e607a-5713-4b67-ef5e-8e024b366abd"
      },
      "outputs": [
        {
          "name": "stdout",
          "text": "<class 'pandas.core.frame.DataFrame'>\nRangeIndex: 10000 entries, 0 to 9999\nData columns (total 18 columns):\n #   Column              Non-Null Count  Dtype  \n---  ------              --------------  -----  \n 0   RowNumber           10000 non-null  int64  \n 1   CustomerId          10000 non-null  int64  \n 2   Surname             10000 non-null  object \n 3   CreditScore         10000 non-null  int64  \n 4   Geography           10000 non-null  object \n 5   Gender              10000 non-null  object \n 6   Age                 10000 non-null  int64  \n 7   Tenure              10000 non-null  int64  \n 8   Balance             10000 non-null  float64\n 9   NumOfProducts       10000 non-null  int64  \n 10  HasCrCard           10000 non-null  int64  \n 11  IsActiveMember      10000 non-null  int64  \n 12  EstimatedSalary     10000 non-null  float64\n 13  Exited              10000 non-null  int64  \n 14  Complain            10000 non-null  int64  \n 15  Satisfaction Score  10000 non-null  int64  \n 16  Card Type           10000 non-null  object \n 17  Point Earned        10000 non-null  int64  \ndtypes: float64(2), int64(12), object(4)\nmemory usage: 1.4+ MB\n",
          "output_type": "stream"
        }
      ],
      "execution_count": null
    },
    {
      "cell_type": "code",
      "source": [
        "df.isnull().sum()"
      ],
      "metadata": {
        "trusted": true,
        "execution": {
          "iopub.status.busy": "2024-11-30T11:36:11.852211Z",
          "iopub.execute_input": "2024-11-30T11:36:11.85261Z",
          "iopub.status.idle": "2024-11-30T11:36:11.863729Z",
          "shell.execute_reply.started": "2024-11-30T11:36:11.852573Z",
          "shell.execute_reply": "2024-11-30T11:36:11.862627Z"
        },
        "id": "opATY-Kv8vsk",
        "outputId": "3ce64295-cc37-4fff-816a-6b302e194ebb"
      },
      "outputs": [
        {
          "execution_count": 89,
          "output_type": "execute_result",
          "data": {
            "text/plain": "RowNumber             0\nCustomerId            0\nSurname               0\nCreditScore           0\nGeography             0\nGender                0\nAge                   0\nTenure                0\nBalance               0\nNumOfProducts         0\nHasCrCard             0\nIsActiveMember        0\nEstimatedSalary       0\nExited                0\nComplain              0\nSatisfaction Score    0\nCard Type             0\nPoint Earned          0\ndtype: int64"
          },
          "metadata": {}
        }
      ],
      "execution_count": null
    },
    {
      "cell_type": "code",
      "source": [
        "df.duplicated().sum()"
      ],
      "metadata": {
        "trusted": true,
        "execution": {
          "iopub.status.busy": "2024-11-30T11:36:13.030064Z",
          "iopub.execute_input": "2024-11-30T11:36:13.030489Z",
          "iopub.status.idle": "2024-11-30T11:36:13.04688Z",
          "shell.execute_reply.started": "2024-11-30T11:36:13.030455Z",
          "shell.execute_reply": "2024-11-30T11:36:13.045724Z"
        },
        "id": "SxfKbXT_8vsl",
        "outputId": "b71a6eaf-256d-4754-c643-09eff67365c1"
      },
      "outputs": [
        {
          "execution_count": 90,
          "output_type": "execute_result",
          "data": {
            "text/plain": "0"
          },
          "metadata": {}
        }
      ],
      "execution_count": null
    },
    {
      "cell_type": "code",
      "source": [
        "df['Exited'].value_counts()"
      ],
      "metadata": {
        "trusted": true,
        "execution": {
          "iopub.status.busy": "2024-11-30T11:36:14.199394Z",
          "iopub.execute_input": "2024-11-30T11:36:14.199851Z",
          "iopub.status.idle": "2024-11-30T11:36:14.20944Z",
          "shell.execute_reply.started": "2024-11-30T11:36:14.199812Z",
          "shell.execute_reply": "2024-11-30T11:36:14.208312Z"
        },
        "id": "hEYhvlcT8vsm",
        "outputId": "d9818a34-d7f4-4f4e-f568-eafb95cc1268"
      },
      "outputs": [
        {
          "execution_count": 91,
          "output_type": "execute_result",
          "data": {
            "text/plain": "Exited\n0    7962\n1    2038\nName: count, dtype: int64"
          },
          "metadata": {}
        }
      ],
      "execution_count": null
    },
    {
      "cell_type": "code",
      "source": [
        "df['Geography'].value_counts()"
      ],
      "metadata": {
        "trusted": true,
        "execution": {
          "iopub.status.busy": "2024-11-30T11:36:15.279309Z",
          "iopub.execute_input": "2024-11-30T11:36:15.279712Z",
          "iopub.status.idle": "2024-11-30T11:36:15.289118Z",
          "shell.execute_reply.started": "2024-11-30T11:36:15.279678Z",
          "shell.execute_reply": "2024-11-30T11:36:15.28808Z"
        },
        "id": "RLzVwzPQ8vsn",
        "outputId": "9e76483a-b4d8-41cd-dd81-92c05111022d"
      },
      "outputs": [
        {
          "execution_count": 92,
          "output_type": "execute_result",
          "data": {
            "text/plain": "Geography\nFrance     5014\nGermany    2509\nSpain      2477\nName: count, dtype: int64"
          },
          "metadata": {}
        }
      ],
      "execution_count": null
    },
    {
      "cell_type": "code",
      "source": [
        "df['Gender'].value_counts()"
      ],
      "metadata": {
        "trusted": true,
        "execution": {
          "iopub.status.busy": "2024-11-30T11:36:16.569249Z",
          "iopub.execute_input": "2024-11-30T11:36:16.569648Z",
          "iopub.status.idle": "2024-11-30T11:36:16.579086Z",
          "shell.execute_reply.started": "2024-11-30T11:36:16.569611Z",
          "shell.execute_reply": "2024-11-30T11:36:16.577606Z"
        },
        "id": "9rGUREJT8vso",
        "outputId": "fdc74bb0-5038-4ecf-c319-26cd5a5ccb61"
      },
      "outputs": [
        {
          "execution_count": 93,
          "output_type": "execute_result",
          "data": {
            "text/plain": "Gender\nMale      5457\nFemale    4543\nName: count, dtype: int64"
          },
          "metadata": {}
        }
      ],
      "execution_count": null
    },
    {
      "cell_type": "code",
      "source": [
        "df.drop(columns=['RowNumber','CustomerId','Surname','Complain','Satisfaction Score','Card Type','Point Earned'],inplace=True)"
      ],
      "metadata": {
        "trusted": true,
        "execution": {
          "iopub.status.busy": "2024-11-30T11:36:18.239221Z",
          "iopub.execute_input": "2024-11-30T11:36:18.240291Z",
          "iopub.status.idle": "2024-11-30T11:36:18.246879Z",
          "shell.execute_reply.started": "2024-11-30T11:36:18.24025Z",
          "shell.execute_reply": "2024-11-30T11:36:18.245685Z"
        },
        "id": "BOPoAutM8vso"
      },
      "outputs": [],
      "execution_count": null
    },
    {
      "cell_type": "code",
      "source": [
        "df.head()"
      ],
      "metadata": {
        "trusted": true,
        "execution": {
          "iopub.status.busy": "2024-11-30T11:36:19.811848Z",
          "iopub.execute_input": "2024-11-30T11:36:19.81226Z",
          "iopub.status.idle": "2024-11-30T11:36:19.830481Z",
          "shell.execute_reply.started": "2024-11-30T11:36:19.812223Z",
          "shell.execute_reply": "2024-11-30T11:36:19.828648Z"
        },
        "id": "UE4KTEBJ8vsp",
        "outputId": "10d8c460-2f6e-4dd5-fdb3-242beea7f8e8"
      },
      "outputs": [
        {
          "execution_count": 95,
          "output_type": "execute_result",
          "data": {
            "text/plain": "   CreditScore Geography  Gender  Age  Tenure    Balance  NumOfProducts  \\\n0          619    France  Female   42       2       0.00              1   \n1          608     Spain  Female   41       1   83807.86              1   \n2          502    France  Female   42       8  159660.80              3   \n3          699    France  Female   39       1       0.00              2   \n4          850     Spain  Female   43       2  125510.82              1   \n\n   HasCrCard  IsActiveMember  EstimatedSalary  Exited  \n0          1               1        101348.88       1  \n1          0               1        112542.58       0  \n2          1               0        113931.57       1  \n3          0               0         93826.63       0  \n4          1               1         79084.10       0  ",
            "text/html": "<div>\n<style scoped>\n    .dataframe tbody tr th:only-of-type {\n        vertical-align: middle;\n    }\n\n    .dataframe tbody tr th {\n        vertical-align: top;\n    }\n\n    .dataframe thead th {\n        text-align: right;\n    }\n</style>\n<table border=\"1\" class=\"dataframe\">\n  <thead>\n    <tr style=\"text-align: right;\">\n      <th></th>\n      <th>CreditScore</th>\n      <th>Geography</th>\n      <th>Gender</th>\n      <th>Age</th>\n      <th>Tenure</th>\n      <th>Balance</th>\n      <th>NumOfProducts</th>\n      <th>HasCrCard</th>\n      <th>IsActiveMember</th>\n      <th>EstimatedSalary</th>\n      <th>Exited</th>\n    </tr>\n  </thead>\n  <tbody>\n    <tr>\n      <th>0</th>\n      <td>619</td>\n      <td>France</td>\n      <td>Female</td>\n      <td>42</td>\n      <td>2</td>\n      <td>0.00</td>\n      <td>1</td>\n      <td>1</td>\n      <td>1</td>\n      <td>101348.88</td>\n      <td>1</td>\n    </tr>\n    <tr>\n      <th>1</th>\n      <td>608</td>\n      <td>Spain</td>\n      <td>Female</td>\n      <td>41</td>\n      <td>1</td>\n      <td>83807.86</td>\n      <td>1</td>\n      <td>0</td>\n      <td>1</td>\n      <td>112542.58</td>\n      <td>0</td>\n    </tr>\n    <tr>\n      <th>2</th>\n      <td>502</td>\n      <td>France</td>\n      <td>Female</td>\n      <td>42</td>\n      <td>8</td>\n      <td>159660.80</td>\n      <td>3</td>\n      <td>1</td>\n      <td>0</td>\n      <td>113931.57</td>\n      <td>1</td>\n    </tr>\n    <tr>\n      <th>3</th>\n      <td>699</td>\n      <td>France</td>\n      <td>Female</td>\n      <td>39</td>\n      <td>1</td>\n      <td>0.00</td>\n      <td>2</td>\n      <td>0</td>\n      <td>0</td>\n      <td>93826.63</td>\n      <td>0</td>\n    </tr>\n    <tr>\n      <th>4</th>\n      <td>850</td>\n      <td>Spain</td>\n      <td>Female</td>\n      <td>43</td>\n      <td>2</td>\n      <td>125510.82</td>\n      <td>1</td>\n      <td>1</td>\n      <td>1</td>\n      <td>79084.10</td>\n      <td>0</td>\n    </tr>\n  </tbody>\n</table>\n</div>"
          },
          "metadata": {}
        }
      ],
      "execution_count": null
    },
    {
      "cell_type": "code",
      "source": [
        "df=pd.get_dummies(df,columns=['Geography','Gender'],drop_first=True,dtype=int)"
      ],
      "metadata": {
        "trusted": true,
        "execution": {
          "iopub.status.busy": "2024-11-30T11:36:53.324389Z",
          "iopub.execute_input": "2024-11-30T11:36:53.324762Z",
          "iopub.status.idle": "2024-11-30T11:36:53.336047Z",
          "shell.execute_reply.started": "2024-11-30T11:36:53.324731Z",
          "shell.execute_reply": "2024-11-30T11:36:53.334897Z"
        },
        "id": "rAJeHkKM8vsq"
      },
      "outputs": [],
      "execution_count": null
    },
    {
      "cell_type": "code",
      "source": [
        "X=df.drop(columns=['Exited'])\n",
        "y=df['Exited']"
      ],
      "metadata": {
        "trusted": true,
        "execution": {
          "iopub.status.busy": "2024-11-30T11:36:56.612153Z",
          "iopub.execute_input": "2024-11-30T11:36:56.612557Z",
          "iopub.status.idle": "2024-11-30T11:36:56.619282Z",
          "shell.execute_reply.started": "2024-11-30T11:36:56.61252Z",
          "shell.execute_reply": "2024-11-30T11:36:56.618177Z"
        },
        "id": "ZHi7x_Y78vsq"
      },
      "outputs": [],
      "execution_count": null
    },
    {
      "cell_type": "code",
      "source": [
        "from sklearn.model_selection import train_test_split\n",
        "X_train,X_test,y_train,y_test=train_test_split(X,y,test_size=0.2,random_state=1)"
      ],
      "metadata": {
        "trusted": true,
        "execution": {
          "iopub.status.busy": "2024-11-30T11:36:58.258327Z",
          "iopub.execute_input": "2024-11-30T11:36:58.258727Z",
          "iopub.status.idle": "2024-11-30T11:36:58.268329Z",
          "shell.execute_reply.started": "2024-11-30T11:36:58.258693Z",
          "shell.execute_reply": "2024-11-30T11:36:58.267025Z"
        },
        "id": "T4w6GfM88vsr"
      },
      "outputs": [],
      "execution_count": null
    },
    {
      "cell_type": "code",
      "source": [
        "X_train.shape"
      ],
      "metadata": {
        "trusted": true,
        "execution": {
          "iopub.status.busy": "2024-11-30T11:36:59.656284Z",
          "iopub.execute_input": "2024-11-30T11:36:59.656737Z",
          "iopub.status.idle": "2024-11-30T11:36:59.663729Z",
          "shell.execute_reply.started": "2024-11-30T11:36:59.656693Z",
          "shell.execute_reply": "2024-11-30T11:36:59.662445Z"
        },
        "id": "iDrRV1k28vsr",
        "outputId": "8dffb43f-9391-45b2-9d26-4c1da5159f44"
      },
      "outputs": [
        {
          "execution_count": 100,
          "output_type": "execute_result",
          "data": {
            "text/plain": "(8000, 11)"
          },
          "metadata": {}
        }
      ],
      "execution_count": null
    },
    {
      "cell_type": "code",
      "source": [
        "X_test.shape"
      ],
      "metadata": {
        "trusted": true,
        "execution": {
          "iopub.status.busy": "2024-11-30T11:37:01.566448Z",
          "iopub.execute_input": "2024-11-30T11:37:01.566809Z",
          "iopub.status.idle": "2024-11-30T11:37:01.573739Z",
          "shell.execute_reply.started": "2024-11-30T11:37:01.566778Z",
          "shell.execute_reply": "2024-11-30T11:37:01.572642Z"
        },
        "id": "d2s81O5H8vss",
        "outputId": "8d624c25-fb15-4cbd-f823-a5086f70ac6b"
      },
      "outputs": [
        {
          "execution_count": 101,
          "output_type": "execute_result",
          "data": {
            "text/plain": "(2000, 11)"
          },
          "metadata": {}
        }
      ],
      "execution_count": null
    },
    {
      "cell_type": "code",
      "source": [
        "from sklearn.preprocessing import StandardScaler\n",
        "scaler=StandardScaler()\n",
        "\n",
        "X_train_scaled=scaler.fit_transform(X_train)\n",
        "X_test_scaled=scaler.transform(X_test)\n"
      ],
      "metadata": {
        "trusted": true,
        "execution": {
          "iopub.status.busy": "2024-11-30T11:37:03.444238Z",
          "iopub.execute_input": "2024-11-30T11:37:03.445233Z",
          "iopub.status.idle": "2024-11-30T11:37:03.459007Z",
          "shell.execute_reply.started": "2024-11-30T11:37:03.445193Z",
          "shell.execute_reply": "2024-11-30T11:37:03.458031Z"
        },
        "id": "a30EloBV8vss"
      },
      "outputs": [],
      "execution_count": null
    },
    {
      "cell_type": "code",
      "source": [
        "X_train_scaled"
      ],
      "metadata": {
        "trusted": true,
        "execution": {
          "iopub.status.busy": "2024-11-30T11:37:23.312116Z",
          "iopub.execute_input": "2024-11-30T11:37:23.312546Z",
          "iopub.status.idle": "2024-11-30T11:37:23.32105Z",
          "shell.execute_reply.started": "2024-11-30T11:37:23.312509Z",
          "shell.execute_reply": "2024-11-30T11:37:23.31996Z"
        },
        "id": "tXXuj-cl8vst",
        "outputId": "b293e0ae-ed98-40cc-ff63-e92dbd3000fa"
      },
      "outputs": [
        {
          "execution_count": 103,
          "output_type": "execute_result",
          "data": {
            "text/plain": "array([[-0.23082038, -0.94449979, -0.70174202, ...,  1.71490137,\n        -0.57273139,  0.91509065],\n       [-0.25150912, -0.94449979, -0.35520275, ..., -0.58312392,\n        -0.57273139, -1.09278791],\n       [-0.3963303 ,  0.77498705,  0.33787579, ...,  1.71490137,\n        -0.57273139, -1.09278791],\n       ...,\n       [ 0.22433188,  0.58393295,  1.3774936 , ..., -0.58312392,\n        -0.57273139, -1.09278791],\n       [ 0.13123255,  0.01077067,  1.03095433, ..., -0.58312392,\n        -0.57273139, -1.09278791],\n       [ 1.1656695 ,  0.29735181,  0.33787579, ...,  1.71490137,\n        -0.57273139,  0.91509065]])"
          },
          "metadata": {}
        }
      ],
      "execution_count": null
    },
    {
      "cell_type": "code",
      "source": [
        "import tensorflow\n",
        "from tensorflow import keras\n",
        "from tensorflow.keras import Sequential\n",
        "from tensorflow.keras.layers import Dense"
      ],
      "metadata": {
        "trusted": true,
        "execution": {
          "iopub.status.busy": "2024-11-30T11:39:27.970819Z",
          "iopub.execute_input": "2024-11-30T11:39:27.97126Z",
          "iopub.status.idle": "2024-11-30T11:39:28.055462Z",
          "shell.execute_reply.started": "2024-11-30T11:39:27.971225Z",
          "shell.execute_reply": "2024-11-30T11:39:28.054314Z"
        },
        "id": "VZUXD9mN8vst"
      },
      "outputs": [],
      "execution_count": null
    },
    {
      "cell_type": "code",
      "source": [
        "model=Sequential()\n",
        "\n",
        "model.add(Dense(11,activation='relu',input_dim=11))\n",
        "model.add(Dense(11,activation='relu'))\n",
        "model.add(Dense(1,activation='sigmoid'))"
      ],
      "metadata": {
        "trusted": true,
        "execution": {
          "iopub.status.busy": "2024-11-30T11:52:07.786761Z",
          "iopub.execute_input": "2024-11-30T11:52:07.787151Z",
          "iopub.status.idle": "2024-11-30T11:52:07.832297Z",
          "shell.execute_reply.started": "2024-11-30T11:52:07.787119Z",
          "shell.execute_reply": "2024-11-30T11:52:07.831077Z"
        },
        "id": "bVkjrwXK8vst",
        "outputId": "afb101b0-9c40-4fcb-97cf-9668898b67ba"
      },
      "outputs": [
        {
          "name": "stderr",
          "text": "/opt/conda/lib/python3.10/site-packages/keras/src/layers/core/dense.py:87: UserWarning: Do not pass an `input_shape`/`input_dim` argument to a layer. When using Sequential models, prefer using an `Input(shape)` object as the first layer in the model instead.\n  super().__init__(activity_regularizer=activity_regularizer, **kwargs)\n",
          "output_type": "stream"
        }
      ],
      "execution_count": null
    },
    {
      "cell_type": "code",
      "source": [
        "model.summary()"
      ],
      "metadata": {
        "trusted": true,
        "execution": {
          "iopub.status.busy": "2024-11-30T11:52:09.551446Z",
          "iopub.execute_input": "2024-11-30T11:52:09.5528Z",
          "iopub.status.idle": "2024-11-30T11:52:09.571074Z",
          "shell.execute_reply.started": "2024-11-30T11:52:09.552755Z",
          "shell.execute_reply": "2024-11-30T11:52:09.570066Z"
        },
        "id": "QymNBGeK8vsu",
        "outputId": "68fcd58c-e7aa-49ab-936f-6c40e29bd2c3"
      },
      "outputs": [
        {
          "output_type": "display_data",
          "data": {
            "text/plain": "\u001b[1mModel: \"sequential_1\"\u001b[0m\n",
            "text/html": "<pre style=\"white-space:pre;overflow-x:auto;line-height:normal;font-family:Menlo,'DejaVu Sans Mono',consolas,'Courier New',monospace\"><span style=\"font-weight: bold\">Model: \"sequential_1\"</span>\n</pre>\n"
          },
          "metadata": {}
        },
        {
          "output_type": "display_data",
          "data": {
            "text/plain": "┏━━━━━━━━━━━━━━━━━━━━━━━━━━━━━━━━━┳━━━━━━━━━━━━━━━━━━━━━━━━┳━━━━━━━━━━━━━━━┓\n┃\u001b[1m \u001b[0m\u001b[1mLayer (type)                   \u001b[0m\u001b[1m \u001b[0m┃\u001b[1m \u001b[0m\u001b[1mOutput Shape          \u001b[0m\u001b[1m \u001b[0m┃\u001b[1m \u001b[0m\u001b[1m      Param #\u001b[0m\u001b[1m \u001b[0m┃\n┡━━━━━━━━━━━━━━━━━━━━━━━━━━━━━━━━━╇━━━━━━━━━━━━━━━━━━━━━━━━╇━━━━━━━━━━━━━━━┩\n│ dense_2 (\u001b[38;5;33mDense\u001b[0m)                 │ (\u001b[38;5;45mNone\u001b[0m, \u001b[38;5;34m11\u001b[0m)             │           \u001b[38;5;34m132\u001b[0m │\n├─────────────────────────────────┼────────────────────────┼───────────────┤\n│ dense_3 (\u001b[38;5;33mDense\u001b[0m)                 │ (\u001b[38;5;45mNone\u001b[0m, \u001b[38;5;34m11\u001b[0m)             │           \u001b[38;5;34m132\u001b[0m │\n├─────────────────────────────────┼────────────────────────┼───────────────┤\n│ dense_4 (\u001b[38;5;33mDense\u001b[0m)                 │ (\u001b[38;5;45mNone\u001b[0m, \u001b[38;5;34m1\u001b[0m)              │            \u001b[38;5;34m12\u001b[0m │\n└─────────────────────────────────┴────────────────────────┴───────────────┘\n",
            "text/html": "<pre style=\"white-space:pre;overflow-x:auto;line-height:normal;font-family:Menlo,'DejaVu Sans Mono',consolas,'Courier New',monospace\">┏━━━━━━━━━━━━━━━━━━━━━━━━━━━━━━━━━┳━━━━━━━━━━━━━━━━━━━━━━━━┳━━━━━━━━━━━━━━━┓\n┃<span style=\"font-weight: bold\"> Layer (type)                    </span>┃<span style=\"font-weight: bold\"> Output Shape           </span>┃<span style=\"font-weight: bold\">       Param # </span>┃\n┡━━━━━━━━━━━━━━━━━━━━━━━━━━━━━━━━━╇━━━━━━━━━━━━━━━━━━━━━━━━╇━━━━━━━━━━━━━━━┩\n│ dense_2 (<span style=\"color: #0087ff; text-decoration-color: #0087ff\">Dense</span>)                 │ (<span style=\"color: #00d7ff; text-decoration-color: #00d7ff\">None</span>, <span style=\"color: #00af00; text-decoration-color: #00af00\">11</span>)             │           <span style=\"color: #00af00; text-decoration-color: #00af00\">132</span> │\n├─────────────────────────────────┼────────────────────────┼───────────────┤\n│ dense_3 (<span style=\"color: #0087ff; text-decoration-color: #0087ff\">Dense</span>)                 │ (<span style=\"color: #00d7ff; text-decoration-color: #00d7ff\">None</span>, <span style=\"color: #00af00; text-decoration-color: #00af00\">11</span>)             │           <span style=\"color: #00af00; text-decoration-color: #00af00\">132</span> │\n├─────────────────────────────────┼────────────────────────┼───────────────┤\n│ dense_4 (<span style=\"color: #0087ff; text-decoration-color: #0087ff\">Dense</span>)                 │ (<span style=\"color: #00d7ff; text-decoration-color: #00d7ff\">None</span>, <span style=\"color: #00af00; text-decoration-color: #00af00\">1</span>)              │            <span style=\"color: #00af00; text-decoration-color: #00af00\">12</span> │\n└─────────────────────────────────┴────────────────────────┴───────────────┘\n</pre>\n"
          },
          "metadata": {}
        },
        {
          "output_type": "display_data",
          "data": {
            "text/plain": "\u001b[1m Total params: \u001b[0m\u001b[38;5;34m276\u001b[0m (1.08 KB)\n",
            "text/html": "<pre style=\"white-space:pre;overflow-x:auto;line-height:normal;font-family:Menlo,'DejaVu Sans Mono',consolas,'Courier New',monospace\"><span style=\"font-weight: bold\"> Total params: </span><span style=\"color: #00af00; text-decoration-color: #00af00\">276</span> (1.08 KB)\n</pre>\n"
          },
          "metadata": {}
        },
        {
          "output_type": "display_data",
          "data": {
            "text/plain": "\u001b[1m Trainable params: \u001b[0m\u001b[38;5;34m276\u001b[0m (1.08 KB)\n",
            "text/html": "<pre style=\"white-space:pre;overflow-x:auto;line-height:normal;font-family:Menlo,'DejaVu Sans Mono',consolas,'Courier New',monospace\"><span style=\"font-weight: bold\"> Trainable params: </span><span style=\"color: #00af00; text-decoration-color: #00af00\">276</span> (1.08 KB)\n</pre>\n"
          },
          "metadata": {}
        },
        {
          "output_type": "display_data",
          "data": {
            "text/plain": "\u001b[1m Non-trainable params: \u001b[0m\u001b[38;5;34m0\u001b[0m (0.00 B)\n",
            "text/html": "<pre style=\"white-space:pre;overflow-x:auto;line-height:normal;font-family:Menlo,'DejaVu Sans Mono',consolas,'Courier New',monospace\"><span style=\"font-weight: bold\"> Non-trainable params: </span><span style=\"color: #00af00; text-decoration-color: #00af00\">0</span> (0.00 B)\n</pre>\n"
          },
          "metadata": {}
        }
      ],
      "execution_count": null
    },
    {
      "cell_type": "code",
      "source": [
        "model.compile(loss='binary_crossentropy',optimizer='Adam',metrics=['accuracy'])\n"
      ],
      "metadata": {
        "trusted": true,
        "execution": {
          "iopub.status.busy": "2024-11-30T11:52:44.950571Z",
          "iopub.execute_input": "2024-11-30T11:52:44.950969Z",
          "iopub.status.idle": "2024-11-30T11:52:44.961019Z",
          "shell.execute_reply.started": "2024-11-30T11:52:44.950926Z",
          "shell.execute_reply": "2024-11-30T11:52:44.959655Z"
        },
        "id": "h918mypn8vsu"
      },
      "outputs": [],
      "execution_count": null
    },
    {
      "cell_type": "code",
      "source": [
        "history= model.fit(X_train_scaled,y_train,epochs=100,validation_split=0.2)"
      ],
      "metadata": {
        "trusted": true,
        "execution": {
          "iopub.status.busy": "2024-11-30T11:56:29.680732Z",
          "iopub.execute_input": "2024-11-30T11:56:29.681551Z",
          "iopub.status.idle": "2024-11-30T11:57:06.921287Z",
          "shell.execute_reply.started": "2024-11-30T11:56:29.681509Z",
          "shell.execute_reply": "2024-11-30T11:57:06.920039Z"
        },
        "id": "Mg_-ggVD8vsv",
        "outputId": "0054c555-d385-4a6b-a27f-9c488fdde2b1"
      },
      "outputs": [
        {
          "name": "stdout",
          "text": "Epoch 1/100\n\u001b[1m200/200\u001b[0m \u001b[32m━━━━━━━━━━━━━━━━━━━━\u001b[0m\u001b[37m\u001b[0m \u001b[1m0s\u001b[0m 2ms/step - accuracy: 0.8657 - loss: 0.3202 - val_accuracy: 0.8562 - val_loss: 0.3453\nEpoch 2/100\n\u001b[1m200/200\u001b[0m \u001b[32m━━━━━━━━━━━━━━━━━━━━\u001b[0m\u001b[37m\u001b[0m \u001b[1m0s\u001b[0m 2ms/step - accuracy: 0.8684 - loss: 0.3205 - val_accuracy: 0.8562 - val_loss: 0.3463\nEpoch 3/100\n\u001b[1m200/200\u001b[0m \u001b[32m━━━━━━━━━━━━━━━━━━━━\u001b[0m\u001b[37m\u001b[0m \u001b[1m0s\u001b[0m 2ms/step - accuracy: 0.8698 - loss: 0.3176 - val_accuracy: 0.8575 - val_loss: 0.3452\nEpoch 4/100\n\u001b[1m200/200\u001b[0m \u001b[32m━━━━━━━━━━━━━━━━━━━━\u001b[0m\u001b[37m\u001b[0m \u001b[1m0s\u001b[0m 2ms/step - accuracy: 0.8664 - loss: 0.3165 - val_accuracy: 0.8550 - val_loss: 0.3447\nEpoch 5/100\n\u001b[1m200/200\u001b[0m \u001b[32m━━━━━━━━━━━━━━━━━━━━\u001b[0m\u001b[37m\u001b[0m \u001b[1m0s\u001b[0m 2ms/step - accuracy: 0.8645 - loss: 0.3191 - val_accuracy: 0.8575 - val_loss: 0.3449\nEpoch 6/100\n\u001b[1m200/200\u001b[0m \u001b[32m━━━━━━━━━━━━━━━━━━━━\u001b[0m\u001b[37m\u001b[0m \u001b[1m0s\u001b[0m 2ms/step - accuracy: 0.8675 - loss: 0.3153 - val_accuracy: 0.8581 - val_loss: 0.3453\nEpoch 7/100\n\u001b[1m200/200\u001b[0m \u001b[32m━━━━━━━━━━━━━━━━━━━━\u001b[0m\u001b[37m\u001b[0m \u001b[1m0s\u001b[0m 2ms/step - accuracy: 0.8644 - loss: 0.3253 - val_accuracy: 0.8581 - val_loss: 0.3447\nEpoch 8/100\n\u001b[1m200/200\u001b[0m \u001b[32m━━━━━━━━━━━━━━━━━━━━\u001b[0m\u001b[37m\u001b[0m \u001b[1m0s\u001b[0m 2ms/step - accuracy: 0.8712 - loss: 0.3183 - val_accuracy: 0.8594 - val_loss: 0.3456\nEpoch 9/100\n\u001b[1m200/200\u001b[0m \u001b[32m━━━━━━━━━━━━━━━━━━━━\u001b[0m\u001b[37m\u001b[0m \u001b[1m0s\u001b[0m 2ms/step - accuracy: 0.8640 - loss: 0.3262 - val_accuracy: 0.8575 - val_loss: 0.3466\nEpoch 10/100\n\u001b[1m200/200\u001b[0m \u001b[32m━━━━━━━━━━━━━━━━━━━━\u001b[0m\u001b[37m\u001b[0m \u001b[1m0s\u001b[0m 2ms/step - accuracy: 0.8611 - loss: 0.3349 - val_accuracy: 0.8575 - val_loss: 0.3440\nEpoch 11/100\n\u001b[1m200/200\u001b[0m \u001b[32m━━━━━━━━━━━━━━━━━━━━\u001b[0m\u001b[37m\u001b[0m \u001b[1m0s\u001b[0m 2ms/step - accuracy: 0.8609 - loss: 0.3300 - val_accuracy: 0.8581 - val_loss: 0.3451\nEpoch 12/100\n\u001b[1m200/200\u001b[0m \u001b[32m━━━━━━━━━━━━━━━━━━━━\u001b[0m\u001b[37m\u001b[0m \u001b[1m0s\u001b[0m 2ms/step - accuracy: 0.8649 - loss: 0.3242 - val_accuracy: 0.8569 - val_loss: 0.3452\nEpoch 13/100\n\u001b[1m200/200\u001b[0m \u001b[32m━━━━━━━━━━━━━━━━━━━━\u001b[0m\u001b[37m\u001b[0m \u001b[1m0s\u001b[0m 2ms/step - accuracy: 0.8693 - loss: 0.3172 - val_accuracy: 0.8562 - val_loss: 0.3463\nEpoch 14/100\n\u001b[1m200/200\u001b[0m \u001b[32m━━━━━━━━━━━━━━━━━━━━\u001b[0m\u001b[37m\u001b[0m \u001b[1m0s\u001b[0m 2ms/step - accuracy: 0.8670 - loss: 0.3266 - val_accuracy: 0.8562 - val_loss: 0.3457\nEpoch 15/100\n\u001b[1m200/200\u001b[0m \u001b[32m━━━━━━━━━━━━━━━━━━━━\u001b[0m\u001b[37m\u001b[0m \u001b[1m0s\u001b[0m 2ms/step - accuracy: 0.8646 - loss: 0.3200 - val_accuracy: 0.8569 - val_loss: 0.3447\nEpoch 16/100\n\u001b[1m200/200\u001b[0m \u001b[32m━━━━━━━━━━━━━━━━━━━━\u001b[0m\u001b[37m\u001b[0m \u001b[1m0s\u001b[0m 2ms/step - accuracy: 0.8579 - loss: 0.3318 - val_accuracy: 0.8550 - val_loss: 0.3460\nEpoch 17/100\n\u001b[1m200/200\u001b[0m \u001b[32m━━━━━━━━━━━━━━━━━━━━\u001b[0m\u001b[37m\u001b[0m \u001b[1m0s\u001b[0m 2ms/step - accuracy: 0.8610 - loss: 0.3230 - val_accuracy: 0.8581 - val_loss: 0.3452\nEpoch 18/100\n\u001b[1m200/200\u001b[0m \u001b[32m━━━━━━━━━━━━━━━━━━━━\u001b[0m\u001b[37m\u001b[0m \u001b[1m0s\u001b[0m 2ms/step - accuracy: 0.8600 - loss: 0.3242 - val_accuracy: 0.8562 - val_loss: 0.3465\nEpoch 19/100\n\u001b[1m200/200\u001b[0m \u001b[32m━━━━━━━━━━━━━━━━━━━━\u001b[0m\u001b[37m\u001b[0m \u001b[1m0s\u001b[0m 2ms/step - accuracy: 0.8665 - loss: 0.3162 - val_accuracy: 0.8550 - val_loss: 0.3459\nEpoch 20/100\n\u001b[1m200/200\u001b[0m \u001b[32m━━━━━━━━━━━━━━━━━━━━\u001b[0m\u001b[37m\u001b[0m \u001b[1m0s\u001b[0m 2ms/step - accuracy: 0.8656 - loss: 0.3148 - val_accuracy: 0.8525 - val_loss: 0.3449\nEpoch 21/100\n\u001b[1m200/200\u001b[0m \u001b[32m━━━━━━━━━━━━━━━━━━━━\u001b[0m\u001b[37m\u001b[0m \u001b[1m0s\u001b[0m 2ms/step - accuracy: 0.8663 - loss: 0.3140 - val_accuracy: 0.8550 - val_loss: 0.3442\nEpoch 22/100\n\u001b[1m200/200\u001b[0m \u001b[32m━━━━━━━━━━━━━━━━━━━━\u001b[0m\u001b[37m\u001b[0m \u001b[1m0s\u001b[0m 2ms/step - accuracy: 0.8680 - loss: 0.3119 - val_accuracy: 0.8556 - val_loss: 0.3443\nEpoch 23/100\n\u001b[1m200/200\u001b[0m \u001b[32m━━━━━━━━━━━━━━━━━━━━\u001b[0m\u001b[37m\u001b[0m \u001b[1m0s\u001b[0m 2ms/step - accuracy: 0.8607 - loss: 0.3255 - val_accuracy: 0.8550 - val_loss: 0.3442\nEpoch 24/100\n\u001b[1m200/200\u001b[0m \u001b[32m━━━━━━━━━━━━━━━━━━━━\u001b[0m\u001b[37m\u001b[0m \u001b[1m0s\u001b[0m 2ms/step - accuracy: 0.8625 - loss: 0.3228 - val_accuracy: 0.8575 - val_loss: 0.3451\nEpoch 25/100\n\u001b[1m200/200\u001b[0m \u001b[32m━━━━━━━━━━━━━━━━━━━━\u001b[0m\u001b[37m\u001b[0m \u001b[1m0s\u001b[0m 2ms/step - accuracy: 0.8690 - loss: 0.3140 - val_accuracy: 0.8544 - val_loss: 0.3461\nEpoch 26/100\n\u001b[1m200/200\u001b[0m \u001b[32m━━━━━━━━━━━━━━━━━━━━\u001b[0m\u001b[37m\u001b[0m \u001b[1m0s\u001b[0m 2ms/step - accuracy: 0.8597 - loss: 0.3355 - val_accuracy: 0.8556 - val_loss: 0.3447\nEpoch 27/100\n\u001b[1m200/200\u001b[0m \u001b[32m━━━━━━━━━━━━━━━━━━━━\u001b[0m\u001b[37m\u001b[0m \u001b[1m0s\u001b[0m 2ms/step - accuracy: 0.8650 - loss: 0.3205 - val_accuracy: 0.8556 - val_loss: 0.3447\nEpoch 28/100\n\u001b[1m200/200\u001b[0m \u001b[32m━━━━━━━━━━━━━━━━━━━━\u001b[0m\u001b[37m\u001b[0m \u001b[1m0s\u001b[0m 2ms/step - accuracy: 0.8685 - loss: 0.3174 - val_accuracy: 0.8556 - val_loss: 0.3468\nEpoch 29/100\n\u001b[1m200/200\u001b[0m \u001b[32m━━━━━━━━━━━━━━━━━━━━\u001b[0m\u001b[37m\u001b[0m \u001b[1m0s\u001b[0m 2ms/step - accuracy: 0.8650 - loss: 0.3239 - val_accuracy: 0.8569 - val_loss: 0.3455\nEpoch 30/100\n\u001b[1m200/200\u001b[0m \u001b[32m━━━━━━━━━━━━━━━━━━━━\u001b[0m\u001b[37m\u001b[0m \u001b[1m0s\u001b[0m 2ms/step - accuracy: 0.8746 - loss: 0.3085 - val_accuracy: 0.8544 - val_loss: 0.3449\nEpoch 31/100\n\u001b[1m200/200\u001b[0m \u001b[32m━━━━━━━━━━━━━━━━━━━━\u001b[0m\u001b[37m\u001b[0m \u001b[1m0s\u001b[0m 2ms/step - accuracy: 0.8657 - loss: 0.3160 - val_accuracy: 0.8569 - val_loss: 0.3462\nEpoch 32/100\n\u001b[1m200/200\u001b[0m \u001b[32m━━━━━━━━━━━━━━━━━━━━\u001b[0m\u001b[37m\u001b[0m \u001b[1m0s\u001b[0m 2ms/step - accuracy: 0.8722 - loss: 0.3101 - val_accuracy: 0.8575 - val_loss: 0.3430\nEpoch 33/100\n\u001b[1m200/200\u001b[0m \u001b[32m━━━━━━━━━━━━━━━━━━━━\u001b[0m\u001b[37m\u001b[0m \u001b[1m0s\u001b[0m 2ms/step - accuracy: 0.8624 - loss: 0.3258 - val_accuracy: 0.8544 - val_loss: 0.3443\nEpoch 34/100\n\u001b[1m200/200\u001b[0m \u001b[32m━━━━━━━━━━━━━━━━━━━━\u001b[0m\u001b[37m\u001b[0m \u001b[1m0s\u001b[0m 2ms/step - accuracy: 0.8630 - loss: 0.3201 - val_accuracy: 0.8612 - val_loss: 0.3442\nEpoch 35/100\n\u001b[1m200/200\u001b[0m \u001b[32m━━━━━━━━━━━━━━━━━━━━\u001b[0m\u001b[37m\u001b[0m \u001b[1m0s\u001b[0m 2ms/step - accuracy: 0.8673 - loss: 0.3123 - val_accuracy: 0.8581 - val_loss: 0.3444\nEpoch 36/100\n\u001b[1m200/200\u001b[0m \u001b[32m━━━━━━━━━━━━━━━━━━━━\u001b[0m\u001b[37m\u001b[0m \u001b[1m0s\u001b[0m 2ms/step - accuracy: 0.8591 - loss: 0.3248 - val_accuracy: 0.8575 - val_loss: 0.3447\nEpoch 37/100\n\u001b[1m200/200\u001b[0m \u001b[32m━━━━━━━━━━━━━━━━━━━━\u001b[0m\u001b[37m\u001b[0m \u001b[1m0s\u001b[0m 2ms/step - accuracy: 0.8692 - loss: 0.3181 - val_accuracy: 0.8550 - val_loss: 0.3446\nEpoch 38/100\n\u001b[1m200/200\u001b[0m \u001b[32m━━━━━━━━━━━━━━━━━━━━\u001b[0m\u001b[37m\u001b[0m \u001b[1m0s\u001b[0m 2ms/step - accuracy: 0.8751 - loss: 0.3069 - val_accuracy: 0.8506 - val_loss: 0.3440\nEpoch 39/100\n\u001b[1m200/200\u001b[0m \u001b[32m━━━━━━━━━━━━━━━━━━━━\u001b[0m\u001b[37m\u001b[0m \u001b[1m0s\u001b[0m 2ms/step - accuracy: 0.8589 - loss: 0.3317 - val_accuracy: 0.8550 - val_loss: 0.3448\nEpoch 40/100\n\u001b[1m200/200\u001b[0m \u001b[32m━━━━━━━━━━━━━━━━━━━━\u001b[0m\u001b[37m\u001b[0m \u001b[1m0s\u001b[0m 2ms/step - accuracy: 0.8578 - loss: 0.3375 - val_accuracy: 0.8587 - val_loss: 0.3460\nEpoch 41/100\n\u001b[1m200/200\u001b[0m \u001b[32m━━━━━━━━━━━━━━━━━━━━\u001b[0m\u001b[37m\u001b[0m \u001b[1m0s\u001b[0m 2ms/step - accuracy: 0.8582 - loss: 0.3416 - val_accuracy: 0.8537 - val_loss: 0.3502\nEpoch 42/100\n\u001b[1m200/200\u001b[0m \u001b[32m━━━━━━━━━━━━━━━━━━━━\u001b[0m\u001b[37m\u001b[0m \u001b[1m0s\u001b[0m 2ms/step - accuracy: 0.8655 - loss: 0.3210 - val_accuracy: 0.8544 - val_loss: 0.3449\nEpoch 43/100\n\u001b[1m200/200\u001b[0m \u001b[32m━━━━━━━━━━━━━━━━━━━━\u001b[0m\u001b[37m\u001b[0m \u001b[1m0s\u001b[0m 2ms/step - accuracy: 0.8653 - loss: 0.3272 - val_accuracy: 0.8600 - val_loss: 0.3453\nEpoch 44/100\n\u001b[1m200/200\u001b[0m \u001b[32m━━━━━━━━━━━━━━━━━━━━\u001b[0m\u001b[37m\u001b[0m \u001b[1m0s\u001b[0m 2ms/step - accuracy: 0.8644 - loss: 0.3204 - val_accuracy: 0.8575 - val_loss: 0.3450\nEpoch 45/100\n\u001b[1m200/200\u001b[0m \u001b[32m━━━━━━━━━━━━━━━━━━━━\u001b[0m\u001b[37m\u001b[0m \u001b[1m0s\u001b[0m 2ms/step - accuracy: 0.8672 - loss: 0.3145 - val_accuracy: 0.8600 - val_loss: 0.3443\nEpoch 46/100\n\u001b[1m200/200\u001b[0m \u001b[32m━━━━━━━━━━━━━━━━━━━━\u001b[0m\u001b[37m\u001b[0m \u001b[1m0s\u001b[0m 2ms/step - accuracy: 0.8635 - loss: 0.3277 - val_accuracy: 0.8575 - val_loss: 0.3449\nEpoch 47/100\n\u001b[1m200/200\u001b[0m \u001b[32m━━━━━━━━━━━━━━━━━━━━\u001b[0m\u001b[37m\u001b[0m \u001b[1m0s\u001b[0m 2ms/step - accuracy: 0.8714 - loss: 0.3101 - val_accuracy: 0.8550 - val_loss: 0.3450\nEpoch 48/100\n\u001b[1m200/200\u001b[0m \u001b[32m━━━━━━━━━━━━━━━━━━━━\u001b[0m\u001b[37m\u001b[0m \u001b[1m0s\u001b[0m 2ms/step - accuracy: 0.8624 - loss: 0.3292 - val_accuracy: 0.8587 - val_loss: 0.3448\nEpoch 49/100\n\u001b[1m200/200\u001b[0m \u001b[32m━━━━━━━━━━━━━━━━━━━━\u001b[0m\u001b[37m\u001b[0m \u001b[1m0s\u001b[0m 2ms/step - accuracy: 0.8641 - loss: 0.3233 - val_accuracy: 0.8562 - val_loss: 0.3449\nEpoch 50/100\n\u001b[1m200/200\u001b[0m \u001b[32m━━━━━━━━━━━━━━━━━━━━\u001b[0m\u001b[37m\u001b[0m \u001b[1m0s\u001b[0m 2ms/step - accuracy: 0.8726 - loss: 0.3199 - val_accuracy: 0.8581 - val_loss: 0.3460\nEpoch 51/100\n\u001b[1m200/200\u001b[0m \u001b[32m━━━━━━━━━━━━━━━━━━━━\u001b[0m\u001b[37m\u001b[0m \u001b[1m0s\u001b[0m 2ms/step - accuracy: 0.8646 - loss: 0.3240 - val_accuracy: 0.8587 - val_loss: 0.3446\nEpoch 52/100\n\u001b[1m200/200\u001b[0m \u001b[32m━━━━━━━━━━━━━━━━━━━━\u001b[0m\u001b[37m\u001b[0m \u001b[1m0s\u001b[0m 2ms/step - accuracy: 0.8632 - loss: 0.3265 - val_accuracy: 0.8556 - val_loss: 0.3469\nEpoch 53/100\n\u001b[1m200/200\u001b[0m \u001b[32m━━━━━━━━━━━━━━━━━━━━\u001b[0m\u001b[37m\u001b[0m \u001b[1m0s\u001b[0m 2ms/step - accuracy: 0.8615 - loss: 0.3296 - val_accuracy: 0.8531 - val_loss: 0.3474\nEpoch 54/100\n\u001b[1m200/200\u001b[0m \u001b[32m━━━━━━━━━━━━━━━━━━━━\u001b[0m\u001b[37m\u001b[0m \u001b[1m0s\u001b[0m 2ms/step - accuracy: 0.8708 - loss: 0.3121 - val_accuracy: 0.8587 - val_loss: 0.3448\nEpoch 55/100\n\u001b[1m200/200\u001b[0m \u001b[32m━━━━━━━━━━━━━━━━━━━━\u001b[0m\u001b[37m\u001b[0m \u001b[1m0s\u001b[0m 2ms/step - accuracy: 0.8656 - loss: 0.3215 - val_accuracy: 0.8562 - val_loss: 0.3490\nEpoch 56/100\n\u001b[1m200/200\u001b[0m \u001b[32m━━━━━━━━━━━━━━━━━━━━\u001b[0m\u001b[37m\u001b[0m \u001b[1m0s\u001b[0m 2ms/step - accuracy: 0.8740 - loss: 0.3054 - val_accuracy: 0.8612 - val_loss: 0.3469\nEpoch 57/100\n\u001b[1m200/200\u001b[0m \u001b[32m━━━━━━━━━━━━━━━━━━━━\u001b[0m\u001b[37m\u001b[0m \u001b[1m0s\u001b[0m 2ms/step - accuracy: 0.8677 - loss: 0.3162 - val_accuracy: 0.8562 - val_loss: 0.3445\nEpoch 58/100\n\u001b[1m200/200\u001b[0m \u001b[32m━━━━━━━━━━━━━━━━━━━━\u001b[0m\u001b[37m\u001b[0m \u001b[1m0s\u001b[0m 2ms/step - accuracy: 0.8699 - loss: 0.3103 - val_accuracy: 0.8562 - val_loss: 0.3445\nEpoch 59/100\n\u001b[1m200/200\u001b[0m \u001b[32m━━━━━━━━━━━━━━━━━━━━\u001b[0m\u001b[37m\u001b[0m \u001b[1m0s\u001b[0m 2ms/step - accuracy: 0.8674 - loss: 0.3150 - val_accuracy: 0.8556 - val_loss: 0.3446\nEpoch 60/100\n\u001b[1m200/200\u001b[0m \u001b[32m━━━━━━━━━━━━━━━━━━━━\u001b[0m\u001b[37m\u001b[0m \u001b[1m0s\u001b[0m 2ms/step - accuracy: 0.8633 - loss: 0.3275 - val_accuracy: 0.8550 - val_loss: 0.3479\nEpoch 61/100\n\u001b[1m200/200\u001b[0m \u001b[32m━━━━━━━━━━━━━━━━━━━━\u001b[0m\u001b[37m\u001b[0m \u001b[1m0s\u001b[0m 2ms/step - accuracy: 0.8679 - loss: 0.3203 - val_accuracy: 0.8537 - val_loss: 0.3445\nEpoch 62/100\n\u001b[1m200/200\u001b[0m \u001b[32m━━━━━━━━━━━━━━━━━━━━\u001b[0m\u001b[37m\u001b[0m \u001b[1m0s\u001b[0m 2ms/step - accuracy: 0.8724 - loss: 0.3182 - val_accuracy: 0.8581 - val_loss: 0.3444\nEpoch 63/100\n\u001b[1m200/200\u001b[0m \u001b[32m━━━━━━━━━━━━━━━━━━━━\u001b[0m\u001b[37m\u001b[0m \u001b[1m0s\u001b[0m 2ms/step - accuracy: 0.8651 - loss: 0.3183 - val_accuracy: 0.8556 - val_loss: 0.3455\nEpoch 64/100\n\u001b[1m200/200\u001b[0m \u001b[32m━━━━━━━━━━━━━━━━━━━━\u001b[0m\u001b[37m\u001b[0m \u001b[1m0s\u001b[0m 2ms/step - accuracy: 0.8704 - loss: 0.3090 - val_accuracy: 0.8556 - val_loss: 0.3448\nEpoch 65/100\n\u001b[1m200/200\u001b[0m \u001b[32m━━━━━━━━━━━━━━━━━━━━\u001b[0m\u001b[37m\u001b[0m \u001b[1m0s\u001b[0m 2ms/step - accuracy: 0.8685 - loss: 0.3180 - val_accuracy: 0.8587 - val_loss: 0.3459\nEpoch 66/100\n\u001b[1m200/200\u001b[0m \u001b[32m━━━━━━━━━━━━━━━━━━━━\u001b[0m\u001b[37m\u001b[0m \u001b[1m0s\u001b[0m 2ms/step - accuracy: 0.8664 - loss: 0.3206 - val_accuracy: 0.8562 - val_loss: 0.3445\nEpoch 67/100\n\u001b[1m200/200\u001b[0m \u001b[32m━━━━━━━━━━━━━━━━━━━━\u001b[0m\u001b[37m\u001b[0m \u001b[1m0s\u001b[0m 2ms/step - accuracy: 0.8592 - loss: 0.3278 - val_accuracy: 0.8544 - val_loss: 0.3434\nEpoch 68/100\n\u001b[1m200/200\u001b[0m \u001b[32m━━━━━━━━━━━━━━━━━━━━\u001b[0m\u001b[37m\u001b[0m \u001b[1m0s\u001b[0m 2ms/step - accuracy: 0.8659 - loss: 0.3158 - val_accuracy: 0.8537 - val_loss: 0.3431\nEpoch 69/100\n\u001b[1m200/200\u001b[0m \u001b[32m━━━━━━━━━━━━━━━━━━━━\u001b[0m\u001b[37m\u001b[0m \u001b[1m0s\u001b[0m 2ms/step - accuracy: 0.8623 - loss: 0.3263 - val_accuracy: 0.8556 - val_loss: 0.3448\nEpoch 70/100\n\u001b[1m200/200\u001b[0m \u001b[32m━━━━━━━━━━━━━━━━━━━━\u001b[0m\u001b[37m\u001b[0m \u001b[1m0s\u001b[0m 2ms/step - accuracy: 0.8669 - loss: 0.3204 - val_accuracy: 0.8550 - val_loss: 0.3446\nEpoch 71/100\n\u001b[1m200/200\u001b[0m \u001b[32m━━━━━━━━━━━━━━━━━━━━\u001b[0m\u001b[37m\u001b[0m \u001b[1m0s\u001b[0m 2ms/step - accuracy: 0.8696 - loss: 0.3142 - val_accuracy: 0.8537 - val_loss: 0.3456\nEpoch 72/100\n\u001b[1m200/200\u001b[0m \u001b[32m━━━━━━━━━━━━━━━━━━━━\u001b[0m\u001b[37m\u001b[0m \u001b[1m0s\u001b[0m 2ms/step - accuracy: 0.8672 - loss: 0.3210 - val_accuracy: 0.8562 - val_loss: 0.3452\nEpoch 73/100\n\u001b[1m200/200\u001b[0m \u001b[32m━━━━━━━━━━━━━━━━━━━━\u001b[0m\u001b[37m\u001b[0m \u001b[1m0s\u001b[0m 2ms/step - accuracy: 0.8695 - loss: 0.3166 - val_accuracy: 0.8594 - val_loss: 0.3437\nEpoch 74/100\n\u001b[1m200/200\u001b[0m \u001b[32m━━━━━━━━━━━━━━━━━━━━\u001b[0m\u001b[37m\u001b[0m \u001b[1m0s\u001b[0m 2ms/step - accuracy: 0.8703 - loss: 0.3092 - val_accuracy: 0.8562 - val_loss: 0.3438\nEpoch 75/100\n\u001b[1m200/200\u001b[0m \u001b[32m━━━━━━━━━━━━━━━━━━━━\u001b[0m\u001b[37m\u001b[0m \u001b[1m0s\u001b[0m 2ms/step - accuracy: 0.8679 - loss: 0.3193 - val_accuracy: 0.8581 - val_loss: 0.3429\nEpoch 76/100\n\u001b[1m200/200\u001b[0m \u001b[32m━━━━━━━━━━━━━━━━━━━━\u001b[0m\u001b[37m\u001b[0m \u001b[1m0s\u001b[0m 2ms/step - accuracy: 0.8683 - loss: 0.3108 - val_accuracy: 0.8550 - val_loss: 0.3471\nEpoch 77/100\n\u001b[1m200/200\u001b[0m \u001b[32m━━━━━━━━━━━━━━━━━━━━\u001b[0m\u001b[37m\u001b[0m \u001b[1m0s\u001b[0m 2ms/step - accuracy: 0.8607 - loss: 0.3222 - val_accuracy: 0.8569 - val_loss: 0.3441\nEpoch 78/100\n\u001b[1m200/200\u001b[0m \u001b[32m━━━━━━━━━━━━━━━━━━━━\u001b[0m\u001b[37m\u001b[0m \u001b[1m0s\u001b[0m 2ms/step - accuracy: 0.8645 - loss: 0.3221 - val_accuracy: 0.8581 - val_loss: 0.3430\nEpoch 79/100\n\u001b[1m200/200\u001b[0m \u001b[32m━━━━━━━━━━━━━━━━━━━━\u001b[0m\u001b[37m\u001b[0m \u001b[1m0s\u001b[0m 2ms/step - accuracy: 0.8689 - loss: 0.3163 - val_accuracy: 0.8550 - val_loss: 0.3435\nEpoch 80/100\n\u001b[1m200/200\u001b[0m \u001b[32m━━━━━━━━━━━━━━━━━━━━\u001b[0m\u001b[37m\u001b[0m \u001b[1m0s\u001b[0m 2ms/step - accuracy: 0.8692 - loss: 0.3146 - val_accuracy: 0.8569 - val_loss: 0.3441\nEpoch 81/100\n\u001b[1m200/200\u001b[0m \u001b[32m━━━━━━━━━━━━━━━━━━━━\u001b[0m\u001b[37m\u001b[0m \u001b[1m0s\u001b[0m 2ms/step - accuracy: 0.8733 - loss: 0.3180 - val_accuracy: 0.8581 - val_loss: 0.3435\nEpoch 82/100\n\u001b[1m200/200\u001b[0m \u001b[32m━━━━━━━━━━━━━━━━━━━━\u001b[0m\u001b[37m\u001b[0m \u001b[1m0s\u001b[0m 2ms/step - accuracy: 0.8644 - loss: 0.3242 - val_accuracy: 0.8575 - val_loss: 0.3454\nEpoch 83/100\n\u001b[1m200/200\u001b[0m \u001b[32m━━━━━━━━━━━━━━━━━━━━\u001b[0m\u001b[37m\u001b[0m \u001b[1m0s\u001b[0m 2ms/step - accuracy: 0.8759 - loss: 0.3027 - val_accuracy: 0.8550 - val_loss: 0.3436\nEpoch 84/100\n\u001b[1m200/200\u001b[0m \u001b[32m━━━━━━━━━━━━━━━━━━━━\u001b[0m\u001b[37m\u001b[0m \u001b[1m0s\u001b[0m 2ms/step - accuracy: 0.8653 - loss: 0.3199 - val_accuracy: 0.8569 - val_loss: 0.3447\nEpoch 85/100\n\u001b[1m200/200\u001b[0m \u001b[32m━━━━━━━━━━━━━━━━━━━━\u001b[0m\u001b[37m\u001b[0m \u001b[1m0s\u001b[0m 2ms/step - accuracy: 0.8632 - loss: 0.3217 - val_accuracy: 0.8562 - val_loss: 0.3449\nEpoch 86/100\n\u001b[1m200/200\u001b[0m \u001b[32m━━━━━━━━━━━━━━━━━━━━\u001b[0m\u001b[37m\u001b[0m \u001b[1m0s\u001b[0m 2ms/step - accuracy: 0.8582 - loss: 0.3252 - val_accuracy: 0.8587 - val_loss: 0.3467\nEpoch 87/100\n\u001b[1m200/200\u001b[0m \u001b[32m━━━━━━━━━━━━━━━━━━━━\u001b[0m\u001b[37m\u001b[0m \u001b[1m0s\u001b[0m 2ms/step - accuracy: 0.8612 - loss: 0.3187 - val_accuracy: 0.8600 - val_loss: 0.3458\nEpoch 88/100\n\u001b[1m200/200\u001b[0m \u001b[32m━━━━━━━━━━━━━━━━━━━━\u001b[0m\u001b[37m\u001b[0m \u001b[1m0s\u001b[0m 2ms/step - accuracy: 0.8685 - loss: 0.3092 - val_accuracy: 0.8569 - val_loss: 0.3424\nEpoch 89/100\n\u001b[1m200/200\u001b[0m \u001b[32m━━━━━━━━━━━━━━━━━━━━\u001b[0m\u001b[37m\u001b[0m \u001b[1m0s\u001b[0m 2ms/step - accuracy: 0.8670 - loss: 0.3164 - val_accuracy: 0.8544 - val_loss: 0.3455\nEpoch 90/100\n\u001b[1m200/200\u001b[0m \u001b[32m━━━━━━━━━━━━━━━━━━━━\u001b[0m\u001b[37m\u001b[0m \u001b[1m0s\u001b[0m 2ms/step - accuracy: 0.8670 - loss: 0.3240 - val_accuracy: 0.8581 - val_loss: 0.3444\nEpoch 91/100\n\u001b[1m200/200\u001b[0m \u001b[32m━━━━━━━━━━━━━━━━━━━━\u001b[0m\u001b[37m\u001b[0m \u001b[1m0s\u001b[0m 2ms/step - accuracy: 0.8619 - loss: 0.3313 - val_accuracy: 0.8581 - val_loss: 0.3449\nEpoch 92/100\n\u001b[1m200/200\u001b[0m \u001b[32m━━━━━━━━━━━━━━━━━━━━\u001b[0m\u001b[37m\u001b[0m \u001b[1m0s\u001b[0m 2ms/step - accuracy: 0.8637 - loss: 0.3278 - val_accuracy: 0.8550 - val_loss: 0.3448\nEpoch 93/100\n\u001b[1m200/200\u001b[0m \u001b[32m━━━━━━━━━━━━━━━━━━━━\u001b[0m\u001b[37m\u001b[0m \u001b[1m0s\u001b[0m 2ms/step - accuracy: 0.8677 - loss: 0.3147 - val_accuracy: 0.8569 - val_loss: 0.3446\nEpoch 94/100\n\u001b[1m200/200\u001b[0m \u001b[32m━━━━━━━━━━━━━━━━━━━━\u001b[0m\u001b[37m\u001b[0m \u001b[1m0s\u001b[0m 2ms/step - accuracy: 0.8668 - loss: 0.3170 - val_accuracy: 0.8581 - val_loss: 0.3440\nEpoch 95/100\n\u001b[1m200/200\u001b[0m \u001b[32m━━━━━━━━━━━━━━━━━━━━\u001b[0m\u001b[37m\u001b[0m \u001b[1m0s\u001b[0m 2ms/step - accuracy: 0.8569 - loss: 0.3282 - val_accuracy: 0.8581 - val_loss: 0.3470\nEpoch 96/100\n\u001b[1m200/200\u001b[0m \u001b[32m━━━━━━━━━━━━━━━━━━━━\u001b[0m\u001b[37m\u001b[0m \u001b[1m0s\u001b[0m 2ms/step - accuracy: 0.8697 - loss: 0.3203 - val_accuracy: 0.8606 - val_loss: 0.3437\nEpoch 97/100\n\u001b[1m200/200\u001b[0m \u001b[32m━━━━━━━━━━━━━━━━━━━━\u001b[0m\u001b[37m\u001b[0m \u001b[1m0s\u001b[0m 2ms/step - accuracy: 0.8643 - loss: 0.3207 - val_accuracy: 0.8581 - val_loss: 0.3451\nEpoch 98/100\n\u001b[1m200/200\u001b[0m \u001b[32m━━━━━━━━━━━━━━━━━━━━\u001b[0m\u001b[37m\u001b[0m \u001b[1m0s\u001b[0m 2ms/step - accuracy: 0.8699 - loss: 0.3110 - val_accuracy: 0.8562 - val_loss: 0.3430\nEpoch 99/100\n\u001b[1m200/200\u001b[0m \u001b[32m━━━━━━━━━━━━━━━━━━━━\u001b[0m\u001b[37m\u001b[0m \u001b[1m0s\u001b[0m 2ms/step - accuracy: 0.8706 - loss: 0.3154 - val_accuracy: 0.8544 - val_loss: 0.3441\nEpoch 100/100\n\u001b[1m200/200\u001b[0m \u001b[32m━━━━━━━━━━━━━━━━━━━━\u001b[0m\u001b[37m\u001b[0m \u001b[1m0s\u001b[0m 2ms/step - accuracy: 0.8687 - loss: 0.3136 - val_accuracy: 0.8569 - val_loss: 0.3444\n",
          "output_type": "stream"
        }
      ],
      "execution_count": null
    },
    {
      "cell_type": "code",
      "source": [
        "model.layers[0].get_weights()"
      ],
      "metadata": {
        "trusted": true,
        "execution": {
          "iopub.status.busy": "2024-11-30T11:54:41.499814Z",
          "iopub.execute_input": "2024-11-30T11:54:41.500205Z",
          "iopub.status.idle": "2024-11-30T11:54:41.512227Z",
          "shell.execute_reply.started": "2024-11-30T11:54:41.500172Z",
          "shell.execute_reply": "2024-11-30T11:54:41.511101Z"
        },
        "id": "OlYmpqDi8vsv",
        "outputId": "48788d23-001d-48c1-bf38-d2d452c5eca5"
      },
      "outputs": [
        {
          "execution_count": 123,
          "output_type": "execute_result",
          "data": {
            "text/plain": "[array([[-9.98924226e-02, -2.52486110e-01, -2.57145031e-03,\n         -3.78380686e-01,  3.76273811e-01,  1.98618814e-01,\n          2.22793907e-01,  3.15636069e-01, -1.14684761e-01,\n         -5.19712381e-02,  2.85230786e-01],\n        [-1.98181733e-01, -4.70884033e-02, -5.65575838e-01,\n         -1.09222218e-01, -9.42048013e-01,  9.92801599e-03,\n          3.29879224e-01, -3.08232784e-01, -9.88830566e-01,\n         -2.65528202e-01, -2.28220493e-01],\n        [ 2.19570130e-01, -1.59744918e-01,  1.64296590e-02,\n          1.35905161e-01, -2.14047208e-01, -1.01310134e-01,\n         -5.71736693e-02, -5.82174174e-02, -2.19421670e-01,\n         -1.14588648e-01, -9.38272253e-02],\n        [-6.12784445e-01, -1.81333378e-01,  2.60086320e-02,\n          1.50349811e-01,  6.63729072e-01,  2.72775233e-01,\n         -2.81271674e-02, -2.83773154e-01, -2.10074186e-01,\n          2.26931259e-01, -4.84054714e-01],\n        [-5.08386731e-01, -9.87992525e-01, -2.19600983e-02,\n          6.90261066e-01, -3.98844242e-01,  1.12850952e+00,\n          2.25161374e-01, -1.14029479e+00, -9.83759239e-02,\n          1.49820969e-01, -1.78017814e-04],\n        [ 3.34291369e-01, -7.84330145e-02,  1.34530570e-02,\n          9.51518059e-01, -1.89966902e-01, -1.76151901e-01,\n         -2.22642139e-01, -2.97902763e-01, -9.49084759e-02,\n         -3.80969912e-01, -3.54744822e-01],\n        [ 2.57424086e-01, -7.88735330e-01, -1.15094960e-01,\n         -5.28237402e-01, -1.85536996e-01, -3.06153178e-01,\n          4.12376702e-01, -3.58130932e-02, -8.10389519e-01,\n         -3.56220633e-01,  9.58402976e-02],\n        [-1.04201838e-01, -9.35836658e-02, -6.58485368e-02,\n          1.79262623e-01,  2.81087935e-01, -1.74513250e-03,\n          2.18100622e-01,  9.61941406e-02,  5.83336651e-02,\n         -3.53237599e-01, -1.71862006e-01],\n        [-3.40623468e-01, -1.76074371e-01,  2.10380033e-02,\n          3.45427275e-01,  8.52265432e-02, -1.53436348e-01,\n         -8.26015621e-02,  2.80268252e-01, -1.53547525e-01,\n         -6.14861310e-01,  6.59967065e-02],\n        [ 4.80487853e-01,  1.35280147e-01, -7.76828587e-01,\n         -3.69810551e-01,  3.86764556e-01,  2.11224943e-01,\n         -6.56589448e-01, -1.53292418e-01, -2.37372503e-01,\n          3.07941794e-01,  6.68145180e-01],\n        [ 1.96420133e-01,  8.31123814e-02,  2.74112392e-02,\n         -2.40599141e-01,  1.89473271e-01,  1.36167273e-01,\n          5.27600229e-01,  1.33805931e-01, -2.09448576e-01,\n          2.21949562e-01,  3.86015475e-01]], dtype=float32),\n array([ 0.40847677,  0.15114082,  0.27660495,  0.6375316 ,  0.14863956,\n        -0.33822477,  0.3360876 ,  0.34007025,  0.72385675, -0.01272211,\n         0.15436836], dtype=float32)]"
          },
          "metadata": {}
        }
      ],
      "execution_count": null
    },
    {
      "cell_type": "code",
      "source": [
        "model.layers[1].get_weights()"
      ],
      "metadata": {
        "trusted": true,
        "execution": {
          "iopub.status.busy": "2024-11-30T11:54:42.73849Z",
          "iopub.execute_input": "2024-11-30T11:54:42.739297Z",
          "iopub.status.idle": "2024-11-30T11:54:42.749633Z",
          "shell.execute_reply.started": "2024-11-30T11:54:42.739253Z",
          "shell.execute_reply": "2024-11-30T11:54:42.748634Z"
        },
        "id": "md3Yu7lB8vsw",
        "outputId": "cdf63782-c6c5-49f1-8165-cb37f4d20205"
      },
      "outputs": [
        {
          "execution_count": 124,
          "output_type": "execute_result",
          "data": {
            "text/plain": "[array([[ 0.3217867 ,  0.39382035, -1.1053145 ,  0.2840343 ,  0.46853372,\n         -0.30030328,  0.55160296, -0.37835303,  0.73304814, -0.1355154 ,\n         -0.10729212],\n        [ 0.37369904, -0.3880233 ,  0.08104277,  0.5816466 , -0.4498348 ,\n          0.1309748 , -0.44361785,  0.6248165 ,  0.22401308,  0.4228292 ,\n          0.5027091 ],\n        [-0.7006923 ,  0.5636491 ,  0.2074287 , -0.5783409 ,  0.29171166,\n         -0.4765285 ,  0.1211466 , -0.43096253, -0.10318775, -0.50657624,\n          0.6088472 ],\n        [-0.60347605, -0.7562783 ,  0.01639178,  0.34617856,  0.4838921 ,\n          0.46916574,  0.06885992,  0.31367165,  0.29057038,  0.15088055,\n          0.16802087],\n        [-0.48156512,  0.47540203,  0.78279924,  0.27401197,  0.22924393,\n         -0.15428858,  0.47554904, -0.7196821 , -0.32656708, -0.50565654,\n         -0.3874185 ],\n        [-1.974654  ,  0.15035768, -0.47207436, -0.6660507 , -0.31269842,\n          0.58471024, -0.55873275,  0.560399  ,  0.2690932 ,  0.77995294,\n         -0.34092948],\n        [ 0.00504083, -0.20269084,  0.14316964, -0.17144556,  0.3229352 ,\n         -0.14411193,  0.5895063 ,  0.01677038,  0.5263305 ,  0.04641311,\n          0.22649172],\n        [ 0.6101632 , -0.66138875, -0.5436429 ,  0.20440598, -0.846584  ,\n          0.4561549 ,  0.29601732, -0.51023686, -0.21469203,  0.64909005,\n         -0.6132006 ],\n        [ 0.35832655,  0.41250846,  0.1065517 ,  0.05558971, -0.38397607,\n          0.16626345,  0.8232228 , -0.04467818,  0.13715632, -0.9299366 ,\n          0.04482117],\n        [-0.379597  ,  0.26391992,  0.17632374, -0.13485225, -0.12874238,\n         -0.5758432 ,  0.40532506, -0.17230421,  0.17209053,  0.28578666,\n         -0.02369973],\n        [ 0.01848689, -0.19810683,  0.079841  , -0.24039273,  0.28383172,\n          0.00821447,  0.5880634 , -0.32964423,  0.5385376 ,  0.02701697,\n         -0.09898382]], dtype=float32),\n array([-0.2194546 , -0.6205725 , -0.21451735, -0.04580456,  0.38004392,\n        -0.05358332,  0.40288356,  0.03452162,  0.27282667,  0.11564053,\n         0.20774004], dtype=float32)]"
          },
          "metadata": {}
        }
      ],
      "execution_count": null
    },
    {
      "cell_type": "code",
      "source": [
        "y_log=model.predict(X_test_scaled)"
      ],
      "metadata": {
        "trusted": true,
        "execution": {
          "iopub.status.busy": "2024-11-30T11:54:51.689565Z",
          "iopub.execute_input": "2024-11-30T11:54:51.689962Z",
          "iopub.status.idle": "2024-11-30T11:54:51.922691Z",
          "shell.execute_reply.started": "2024-11-30T11:54:51.689929Z",
          "shell.execute_reply": "2024-11-30T11:54:51.921097Z"
        },
        "id": "6rTwWJbM8vsw",
        "outputId": "c2efca76-cb40-44b4-fa22-d61794f67ef8"
      },
      "outputs": [
        {
          "name": "stdout",
          "text": "\u001b[1m63/63\u001b[0m \u001b[32m━━━━━━━━━━━━━━━━━━━━\u001b[0m\u001b[37m\u001b[0m \u001b[1m0s\u001b[0m 2ms/step\n",
          "output_type": "stream"
        }
      ],
      "execution_count": null
    },
    {
      "cell_type": "code",
      "source": [
        "y_pred=np.where(y_log>0.5,1,0)"
      ],
      "metadata": {
        "trusted": true,
        "execution": {
          "iopub.status.busy": "2024-11-30T11:54:55.08494Z",
          "iopub.execute_input": "2024-11-30T11:54:55.085343Z",
          "iopub.status.idle": "2024-11-30T11:54:55.090583Z",
          "shell.execute_reply.started": "2024-11-30T11:54:55.085308Z",
          "shell.execute_reply": "2024-11-30T11:54:55.089458Z"
        },
        "id": "y430_3Pg8vsw"
      },
      "outputs": [],
      "execution_count": null
    },
    {
      "cell_type": "code",
      "source": [
        "from sklearn.metrics import accuracy_score"
      ],
      "metadata": {
        "trusted": true,
        "execution": {
          "iopub.status.busy": "2024-11-30T11:54:57.470845Z",
          "iopub.execute_input": "2024-11-30T11:54:57.471236Z",
          "iopub.status.idle": "2024-11-30T11:54:57.476525Z",
          "shell.execute_reply.started": "2024-11-30T11:54:57.4712Z",
          "shell.execute_reply": "2024-11-30T11:54:57.475273Z"
        },
        "id": "Qjbtc9ib8vsx"
      },
      "outputs": [],
      "execution_count": null
    },
    {
      "cell_type": "code",
      "source": [
        "accuracy_score(y_test,y_pred)"
      ],
      "metadata": {
        "trusted": true,
        "execution": {
          "iopub.status.busy": "2024-11-30T11:54:59.398517Z",
          "iopub.execute_input": "2024-11-30T11:54:59.398962Z",
          "iopub.status.idle": "2024-11-30T11:54:59.408307Z",
          "shell.execute_reply.started": "2024-11-30T11:54:59.398887Z",
          "shell.execute_reply": "2024-11-30T11:54:59.407192Z"
        },
        "id": "1cn9jSdy8vsx",
        "outputId": "c3cee8ac-b4c1-4c8e-dca9-89ef5d94815e"
      },
      "outputs": [
        {
          "execution_count": 128,
          "output_type": "execute_result",
          "data": {
            "text/plain": "0.86"
          },
          "metadata": {}
        }
      ],
      "execution_count": null
    },
    {
      "cell_type": "code",
      "source": [
        "plt.plot(history.history['loss'])\n",
        "plt.plot(history.history['val_accuracy'])"
      ],
      "metadata": {
        "trusted": true,
        "execution": {
          "iopub.status.busy": "2024-11-30T11:59:23.092541Z",
          "iopub.execute_input": "2024-11-30T11:59:23.092964Z",
          "iopub.status.idle": "2024-11-30T11:59:23.337254Z",
          "shell.execute_reply.started": "2024-11-30T11:59:23.092929Z",
          "shell.execute_reply": "2024-11-30T11:59:23.336115Z"
        },
        "id": "14hP-1RF8vsx",
        "outputId": "7a899d36-e4e4-4484-e75e-559059c3211f"
      },
      "outputs": [
        {
          "execution_count": 133,
          "output_type": "execute_result",
          "data": {
            "text/plain": "[<matplotlib.lines.Line2D at 0x7d9e1c1f6290>]"
          },
          "metadata": {}
        },
        {
          "output_type": "display_data",
          "data": {
            "text/plain": "<Figure size 640x480 with 1 Axes>",
            "image/png": "[encoded data removed]"
          },
          "metadata": {}
        }
      ],
      "execution_count": null
    },
    {
      "cell_type": "code",
      "source": [],
      "metadata": {
        "trusted": true,
        "id": "I2hxnbzm8vsy"
      },
      "outputs": [],
      "execution_count": null
    }
  ]
}